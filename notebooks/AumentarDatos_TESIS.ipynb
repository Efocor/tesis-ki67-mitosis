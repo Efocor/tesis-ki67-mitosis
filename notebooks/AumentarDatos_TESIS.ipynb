{
  "nbformat": 4,
  "nbformat_minor": 0,
  "metadata": {
    "colab": {
      "provenance": []
    },
    "kernelspec": {
      "name": "python3",
      "display_name": "Python 3"
    },
    "language_info": {
      "name": "python"
    }
  },
  "cells": [
    {
      "cell_type": "markdown",
      "source": [
        "# POR FELIPE CORREA RODRIGUEZ."
      ],
      "metadata": {
        "id": "qujLkaTnn5dx"
      }
    },
    {
      "cell_type": "markdown",
      "source": [
        "## REVISIÓN DE POSIBILIDADES PARA AUMENTAR DATOS; O SEA AGREGAR MÁS IMÁGENES AL SET."
      ],
      "metadata": {
        "id": "93Aip_y5oRCk"
      }
    },
    {
      "cell_type": "code",
      "execution_count": null,
      "metadata": {
        "id": "RuWWsgP4nYYL"
      },
      "outputs": [],
      "source": [
        "# ...primero instala albumentations (solo en Colab)\n",
        "!pip install albumentations --quiet #para hacer la magia.\n",
        "\n",
        "import cv2\n",
        "import numpy as np\n",
        "import matplotlib.pyplot as plt\n",
        "import albumentations as A\n",
        "from google.colab.patches import cv2_imshow\n",
        "from albumentations.pytorch import ToTensorV2\n",
        "from glob import glob\n",
        "import random\n",
        "\n",
        "#...ruta donde están las imágenes 256x256\n",
        "# ...SHIDC-B-Ki-67 en este caso\n",
        "image_paths = glob(\"/content/SHIDC-B-Ki-67/Patches/Positive/*.png\")  # o Negative/*.png\n",
        "\n",
        "# ...cargamos una imagen aleatoria\n",
        "img_path = random.choice(image_paths)\n",
        "image = cv2.imread(img_path)\n",
        "image = cv2.cvtColor(image, cv2.COLOR_BGR2RGB)\n",
        "\n",
        "# ...aumentación de datos con albumentations\n",
        "transform = A.Compose([\n",
        "    A.HorizontalFlip(p=0.5),\n",
        "    A.VerticalFlip(p=0.5),\n",
        "    A.RandomRotate90(p=0.5),\n",
        "    A.RandomBrightnessContrast(p=0.4),\n",
        "    A.HueSaturationValue(p=0.3),\n",
        "    A.ElasticTransform(p=0.2),\n",
        "    A.Blur(blur_limit=3, p=0.2),\n",
        "    A.ShiftScaleRotate(shift_limit=0.05, scale_limit=0.05, rotate_limit=45, p=0.5),\n",
        "])\n",
        "\n",
        "# ...generar 6 imágenes aumentadas\n",
        "augmented_images = [transform(image=image)['image'] for _ in range(6)]\n",
        "\n",
        "# ...muestra los resultados\n",
        "plt.figure(figsize=(15, 4))\n",
        "plt.subplot(1, 7, 1)\n",
        "plt.imshow(image)\n",
        "plt.title(\"Original\")\n",
        "plt.axis('off')\n",
        "\n",
        "for i, img in enumerate(augmented_images):\n",
        "    plt.subplot(1, 7, i + 2)\n",
        "    plt.imshow(img)\n",
        "    plt.title(f\"Aug {i+1}\")\n",
        "    plt.axis('off')\n",
        "\n",
        "plt.tight_layout()\n",
        "plt.show()\n"
      ]
    },
    {
      "cell_type": "code",
      "source": [],
      "metadata": {
        "id": "OduEZ3moocX6"
      },
      "execution_count": null,
      "outputs": []
    }
  ]
}